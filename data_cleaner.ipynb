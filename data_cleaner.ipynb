{
  "nbformat": 4,
  "nbformat_minor": 0,
  "metadata": {
    "colab": {
      "name": "data-cleaner.ipynb",
      "provenance": [],
      "collapsed_sections": []
    },
    "kernelspec": {
      "name": "python3",
      "display_name": "Python 3"
    },
    "language_info": {
      "name": "python"
    }
  },
  "cells": [
    {
      "cell_type": "markdown",
      "source": [
        "# Pandas is powerful, how to use it?\n",
        "A convenient tool and usage demo to do data cleaning using Pandas DataFrame"
      ],
      "metadata": {
        "id": "0GDqsFtQ8cEQ"
      }
    },
    {
      "cell_type": "code",
      "execution_count": 10,
      "metadata": {
        "id": "nste2hlfLnD-"
      },
      "outputs": [],
      "source": [
        "from __future__ import annotations\n",
        "import numpy as np\n",
        "import pandas as pd\n",
        "from typing import Dict, Any, List\n",
        "from datetime import datetime\n"
      ]
    },
    {
      "cell_type": "markdown",
      "source": [
        "# Transform a pandas df while keeping track of the history of transformations to allow reverting back to earlier state."
      ],
      "metadata": {
        "id": "NU6ajdXD8yal"
      }
    },
    {
      "cell_type": "code",
      "source": [
        "class DataCleaner:\n",
        "  def __init__(self, df: pd.DataFrame):\n",
        "    self.df = df\n",
        "    self.current = self.df.copy()\n",
        "    self.history =[]\n",
        "\n",
        "  # a helper method to convert datatime format\n",
        "  def to_datetime64(dt): # dt in the format of timestamp\n",
        "    return np.datetime64(datetime.strptime(str(dt),'%Y-%m-%d %H:%M:%S'))\n",
        "  \n",
        "  # adjust the data type of columns \n",
        "  def adjust_dtype(self, types: Dict[str, Any]) -> None:\n",
        "    for type1 in types: # assuming the input could be for more than one column\n",
        "      if type1 == \"timestamp\":     \n",
        "        self.df['timestamp'] = self.df['timestamp'].apply(to_datetime64)\n",
        "        return\n",
        "    return\n",
        "  \n",
        "  # imputate with missing values\n",
        "  def impute_missing(self, columns: List[str]) -> None:\n",
        "    for c in columns:\n",
        "      if c == 'amount':\n",
        "        self.df.loc[self.df.loc[:,c].isnull(),c]=self.df.loc[:,c].mean()\n",
        "        self.null_amount_idx =  self.df.index[self.df['amount'].isnull()].tolist()\n",
        "  \n",
        "  # revert df back to an earlier state \n",
        "  def revert(self, steps_back: int = 1) -> None:\n",
        "    length = len(self.history)\n",
        "    txt, df1 = self.history[length - steps_back -1]\n",
        "    self.current = df1.copy()\n",
        "    self.history = self.history[0:(length -1 - steps_back)]\n",
        "\n",
        "   # save the class object using pickle\n",
        "  def save(self, path: str) -> None:\n",
        "    self.df.to_pickle(path)\n",
        "\n",
        "    #\n",
        "  def load(path: str) -> DataCleaner:\n",
        "    return DataCleaner(pd.read_pickle(path))    "
      ],
      "metadata": {
        "id": "tQAR4kpMMWIR"
      },
      "execution_count": 30,
      "outputs": []
    },
    {
      "cell_type": "code",
      "source": [
        "transactions = pd.DataFrame(\n",
        "    {\n",
        "        \"customer_id\": [10, 10, 13, 10, 11, 11, 10],\n",
        "        \"amount\": [1.00, 1.31, 20.5, 0.5, 0.2, 0.2, np.nan], #  \"amount\": [1.00, 1.31, 20.5, 0.5, 0.2, np.nan, np.nan],\n",
        "        \"timestamp\": [\n",
        "            \"2020-10-08 11:32:01\",\n",
        "            \"2020-10-08 13:45:00\",\n",
        "            \"2020-10-07 05:10:30\",\n",
        "            \"2020-10-08 12:30:00\",\n",
        "            \"2020-10-07 01:29:33\",\n",
        "            \"2020-10-08 13:45:00\",\n",
        "            \"2020-10-09 02:05:21\",\n",
        "        ]\n",
        "    }\n",
        ")"
      ],
      "metadata": {
        "id": "q2gBC6WBL9Xi"
      },
      "execution_count": 31,
      "outputs": []
    },
    {
      "cell_type": "code",
      "source": [
        "print(transactions.columns)\n",
        "print(transactions.index )"
      ],
      "metadata": {
        "colab": {
          "base_uri": "https://localhost:8080/"
        },
        "id": "STJ_as05UO98",
        "outputId": "e6db38a6-e38b-45b6-a427-e142713e3055"
      },
      "execution_count": 13,
      "outputs": [
        {
          "output_type": "stream",
          "name": "stdout",
          "text": [
            "Index(['customer_id', 'amount', 'timestamp'], dtype='object')\n",
            "RangeIndex(start=0, stop=7, step=1)\n"
          ]
        }
      ]
    },
    {
      "cell_type": "code",
      "source": [
        "transactions_dc = DataCleaner(transactions)\n",
        "transactions_dc.current = transactions_dc.df.copy()\n",
        "transactions_dc.history.append(('Initial df',transactions_dc.current) )\n",
        "print(f\"Current dataframe:\\n{transactions_dc.current}\")"
      ],
      "metadata": {
        "colab": {
          "base_uri": "https://localhost:8080/"
        },
        "id": "2kVvXz8WMn8K",
        "outputId": "31f956f2-6136-4218-967f-135372f452b5"
      },
      "execution_count": 32,
      "outputs": [
        {
          "output_type": "stream",
          "name": "stdout",
          "text": [
            "Current dataframe:\n",
            "   customer_id  amount            timestamp\n",
            "0           10    1.00  2020-10-08 11:32:01\n",
            "1           10    1.31  2020-10-08 13:45:00\n",
            "2           13   20.50  2020-10-07 05:10:30\n",
            "3           10    0.50  2020-10-08 12:30:00\n",
            "4           11    0.20  2020-10-07 01:29:33\n",
            "5           11    0.20  2020-10-08 13:45:00\n",
            "6           10     NaN  2020-10-09 02:05:21\n"
          ]
        }
      ]
    },
    {
      "cell_type": "code",
      "source": [
        "print(f\"Initial dtypes:\\n{transactions_dc.current.dtypes}\")"
      ],
      "metadata": {
        "colab": {
          "base_uri": "https://localhost:8080/"
        },
        "id": "4pBKoAoLAaAc",
        "outputId": "b854617c-8414-4b99-b72b-1a3867d8ba5e"
      },
      "execution_count": 28,
      "outputs": [
        {
          "output_type": "stream",
          "name": "stdout",
          "text": [
            "Initial dtypes:\n",
            "customer_id      int64\n",
            "amount         float64\n",
            "timestamp       object\n",
            "dtype: object\n"
          ]
        }
      ]
    },
    {
      "cell_type": "code",
      "source": [
        "transactions_dc.adjust_dtype({\"timestamp\": np.datetime64})\n",
        "transactions_dc.current = transactions_dc.df.copy()\n",
        "transactions_dc.history.append((\"Adjusted dtypes using {'timestamp': <class 'numpy.datetime64'>}\",transactions_dc.current) )\n",
        "\n",
        "print(f\"Changed dtypes to:\\n{transactions_dc.current.dtypes}\")\n",
        "#print(transactions_dc.history)"
      ],
      "metadata": {
        "id": "wiBJ7c4JNnIB",
        "colab": {
          "base_uri": "https://localhost:8080/"
        },
        "outputId": "1e0694a9-0885-4745-f182-8d533be330c6"
      },
      "execution_count": 33,
      "outputs": [
        {
          "output_type": "stream",
          "name": "stdout",
          "text": [
            "Changed dtypes to:\n",
            "customer_id             int64\n",
            "amount                float64\n",
            "timestamp      datetime64[ns]\n",
            "dtype: object\n"
          ]
        }
      ]
    },
    {
      "cell_type": "code",
      "source": [
        "transactions_dc.impute_missing(columns=[\"amount\"])\n",
        "transactions_dc.current = transactions_dc.df.copy()\n",
        "transactions_dc.history.append((\"Imputed missing in ['amount']\",transactions_dc.current) )\n",
        "print(f\"Imputed missing as overall mean:\\n{transactions_dc.current}\")"
      ],
      "metadata": {
        "colab": {
          "base_uri": "https://localhost:8080/"
        },
        "id": "pXlpPvIQ-u50",
        "outputId": "da60e348-baef-469a-f31a-7439fbe45eca"
      },
      "execution_count": 34,
      "outputs": [
        {
          "output_type": "stream",
          "name": "stdout",
          "text": [
            "Imputed missing as overall mean:\n",
            "   customer_id     amount           timestamp\n",
            "0           10   1.000000 2020-10-08 11:32:01\n",
            "1           10   1.310000 2020-10-08 13:45:00\n",
            "2           13  20.500000 2020-10-07 05:10:30\n",
            "3           10   0.500000 2020-10-08 12:30:00\n",
            "4           11   0.200000 2020-10-07 01:29:33\n",
            "5           11   0.200000 2020-10-08 13:45:00\n",
            "6           10   3.951667 2020-10-09 02:05:21\n"
          ]
        }
      ]
    },
    {
      "cell_type": "code",
      "source": [
        "print(f\"History of changes:\\n{transactions_dc.history}\")"
      ],
      "metadata": {
        "colab": {
          "base_uri": "https://localhost:8080/"
        },
        "id": "yxJtB-F6Kcoy",
        "outputId": "e240a842-c7b1-4efe-99f3-ea3034804d1d"
      },
      "execution_count": 35,
      "outputs": [
        {
          "output_type": "stream",
          "name": "stdout",
          "text": [
            "History of changes:\n",
            "[('Initial df',    customer_id  amount            timestamp\n",
            "0           10    1.00  2020-10-08 11:32:01\n",
            "1           10    1.31  2020-10-08 13:45:00\n",
            "2           13   20.50  2020-10-07 05:10:30\n",
            "3           10    0.50  2020-10-08 12:30:00\n",
            "4           11    0.20  2020-10-07 01:29:33\n",
            "5           11    0.20  2020-10-08 13:45:00\n",
            "6           10     NaN  2020-10-09 02:05:21), (\"Adjusted dtypes using {'timestamp': <class 'numpy.datetime64'>}\",    customer_id  amount           timestamp\n",
            "0           10    1.00 2020-10-08 11:32:01\n",
            "1           10    1.31 2020-10-08 13:45:00\n",
            "2           13   20.50 2020-10-07 05:10:30\n",
            "3           10    0.50 2020-10-08 12:30:00\n",
            "4           11    0.20 2020-10-07 01:29:33\n",
            "5           11    0.20 2020-10-08 13:45:00\n",
            "6           10     NaN 2020-10-09 02:05:21), (\"Imputed missing in ['amount']\",    customer_id     amount           timestamp\n",
            "0           10   1.000000 2020-10-08 11:32:01\n",
            "1           10   1.310000 2020-10-08 13:45:00\n",
            "2           13  20.500000 2020-10-07 05:10:30\n",
            "3           10   0.500000 2020-10-08 12:30:00\n",
            "4           11   0.200000 2020-10-07 01:29:33\n",
            "5           11   0.200000 2020-10-08 13:45:00\n",
            "6           10   3.951667 2020-10-09 02:05:21)]\n"
          ]
        }
      ]
    },
    {
      "cell_type": "code",
      "source": [
        "transactions_dc.save(\"transactions\")\n",
        "loaded_dc = DataCleaner.load(\"transactions\")\n",
        "print(f\"Loaded DataCleaner current df:\\n{loaded_dc.current}\")"
      ],
      "metadata": {
        "colab": {
          "base_uri": "https://localhost:8080/"
        },
        "id": "NanUAELjB4b7",
        "outputId": "9e74bcff-d3c4-4310-e768-e2a662f2a8e7"
      },
      "execution_count": 36,
      "outputs": [
        {
          "output_type": "stream",
          "name": "stdout",
          "text": [
            "Loaded DataCleaner current df:\n",
            "   customer_id     amount           timestamp\n",
            "0           10   1.000000 2020-10-08 11:32:01\n",
            "1           10   1.310000 2020-10-08 13:45:00\n",
            "2           13  20.500000 2020-10-07 05:10:30\n",
            "3           10   0.500000 2020-10-08 12:30:00\n",
            "4           11   0.200000 2020-10-07 01:29:33\n",
            "5           11   0.200000 2020-10-08 13:45:00\n",
            "6           10   3.951667 2020-10-09 02:05:21\n"
          ]
        }
      ]
    },
    {
      "cell_type": "code",
      "source": [
        "transactions_dc.revert()\n",
        "print(f\"Reverting missing value imputation:\\n{transactions_dc.current}\")"
      ],
      "metadata": {
        "colab": {
          "base_uri": "https://localhost:8080/"
        },
        "id": "NSpBjZtIND0n",
        "outputId": "609ce542-a732-46b6-df2d-8ba79483692b"
      },
      "execution_count": 37,
      "outputs": [
        {
          "output_type": "stream",
          "name": "stdout",
          "text": [
            "Reverting missing value imputation:\n",
            "   customer_id  amount           timestamp\n",
            "0           10    1.00 2020-10-08 11:32:01\n",
            "1           10    1.31 2020-10-08 13:45:00\n",
            "2           13   20.50 2020-10-07 05:10:30\n",
            "3           10    0.50 2020-10-08 12:30:00\n",
            "4           11    0.20 2020-10-07 01:29:33\n",
            "5           11    0.20 2020-10-08 13:45:00\n",
            "6           10     NaN 2020-10-09 02:05:21\n"
          ]
        }
      ]
    }
  ]
}